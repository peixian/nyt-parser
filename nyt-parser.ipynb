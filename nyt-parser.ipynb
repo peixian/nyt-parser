{
 "cells": [
  {
   "cell_type": "code",
   "execution_count": 112,
   "id": "4162ec52-f299-4208-a624-656934d013bf",
   "metadata": {},
   "outputs": [],
   "source": [
    "from bs4 import BeautifulSoup\n",
    "import requests\n",
    "import re\n",
    "import textract\n",
    "import pandas as pd\n",
    "import os"
   ]
  },
  {
   "cell_type": "code",
   "execution_count": 2,
   "id": "4fb22d10-a537-4a26-9564-8862c543d06c",
   "metadata": {},
   "outputs": [],
   "source": [
    "link = \"https://www.nytimes.com/interactive/2021/us/civilian-casualty-files.html\""
   ]
  },
  {
   "cell_type": "code",
   "execution_count": 6,
   "id": "cf8d1955-3e7e-4622-b6dc-faf6e0ba4dc1",
   "metadata": {},
   "outputs": [],
   "source": [
    "b = requests.get(link)"
   ]
  },
  {
   "cell_type": "code",
   "execution_count": 9,
   "id": "c7b4510d-58e0-4c8f-9057-d8987d7bda15",
   "metadata": {},
   "outputs": [],
   "source": [
    "doc = BeautifulSoup(b.text)"
   ]
  },
  {
   "cell_type": "code",
   "execution_count": 120,
   "id": "8931257a-2c8a-4171-8d39-c7e1cd50fd55",
   "metadata": {},
   "outputs": [],
   "source": [
    "def extract_pdf(pdf_path: str) -> str:\n",
    "    if len(pdf_path) == 0:\n",
    "        return \"\"\n",
    "    return textract.process(pdf_path, encoding=\"utf-8\").decode(\"utf-8\")"
   ]
  },
  {
   "cell_type": "code",
   "execution_count": 23,
   "id": "c78fca15-42ce-41c3-9bc5-20628048bbb4",
   "metadata": {},
   "outputs": [],
   "source": [
    "files = doc.find('div', attrs={'data-preview-slug': '2021-11-12-airstrikes-docs'})"
   ]
  },
  {
   "cell_type": "code",
   "execution_count": 29,
   "id": "36460823-b678-435d-b8a9-7d832010d2d8",
   "metadata": {},
   "outputs": [],
   "source": [
    "KINDS = ['credible-reports', 'noncredible-reports', 'process-docs']\n",
    "reports = {}\n",
    "for kind in KINDS:\n",
    "    reports[kind] = files.find('div', attrs={'id': kind}).find('div', id=lambda x: x.endswith(\"-table\"))"
   ]
  },
  {
   "cell_type": "code",
   "execution_count": 82,
   "id": "33ad807b-3345-4402-a8b0-a9ec4ea1c7f9",
   "metadata": {},
   "outputs": [],
   "source": [
    "ROW_TITLES = [\n",
    "    'date',\n",
    "    'location',\n",
    "    'killed',\n",
    "    'injured',\n",
    "]\n",
    "\n",
    "def parse_table(reports_table, row_titles=ROW_TITLES):\n",
    "    rows = reports_table.findAll('div', recursive=False)\n",
    "    data = []\n",
    "    for r in rows[1:]:\n",
    "        if not r:\n",
    "            continue\n",
    "        d = {}\n",
    "        \n",
    "        for title in row_titles:\n",
    "            try:\n",
    "                d[title] = r.find('div', class_=lambda x: x.endswith(title)).text.strip() \n",
    "            except Exception as e:\n",
    "                print(f\"couldn't find the column {title}\")\n",
    "        try:\n",
    "            d['docs'] = r.find('div', class_=lambda x: x.endswith('docs'))\n",
    "            if len(d['docs'].text.strip()) > 0:\n",
    "                d['docs'] = d['docs'].find('a').attrs['href']\n",
    "            else:\n",
    "                d['docs'] = ''\n",
    "            d['pr'] = r.find('div', class_=lambda x: x.endswith('pr'))\n",
    "            if len(d['pr'].text.strip()) > 0:\n",
    "                d['pr'] = d['pr'].find('a').attrs['href']\n",
    "            else:\n",
    "                d['pr'] = ''\n",
    "        except Exception as e:\n",
    "            print(f\"didn't find {r} because of {str(e)}\")\n",
    "        data.append(d)\n",
    "        \n",
    "    return pd.DataFrame(data)"
   ]
  },
  {
   "cell_type": "code",
   "execution_count": 113,
   "id": "b7fa7346-3661-4071-8f2f-151a0ae4ed46",
   "metadata": {},
   "outputs": [],
   "source": [
    "def download_pdf(link):\n",
    "    if len(link) == 0: \n",
    "        return ''\n",
    "    out = '-'.join(link.split('/')[5:])\n",
    "    out = f\"./downloads/{out}\"\n",
    "    if os.path.exists(out):\n",
    "        return out\n",
    "    with open(out, \"wb+\") as outfile:\n",
    "        r = requests.get(link)\n",
    "        outfile.write(r.content)\n",
    "    return out\n",
    "        \n",
    "def download_and_parse(df):\n",
    "    df['doc_file'] = df['docs'].apply(download_pdf)\n",
    "    df['pr_file'] = df['pr'].apply(download_pdf)\n",
    "\n",
    "    return df"
   ]
  },
  {
   "cell_type": "code",
   "execution_count": 131,
   "id": "692b5099-624d-47ed-a74f-18563beead41",
   "metadata": {},
   "outputs": [],
   "source": [
    "def extract_pdf_from_pandas(df):\n",
    "    df['doc_text'] = df['doc_file'].apply(extract_pdf)\n",
    "    df['pr_text'] = df['pr_file'].apply(extract_pdf)\n",
    "    return df"
   ]
  },
  {
   "cell_type": "code",
   "execution_count": 139,
   "id": "1c94b731-bf9a-49eb-9912-449bde9fbaed",
   "metadata": {},
   "outputs": [],
   "source": [
    "def write_output(out_path, df):\n",
    "    with open(out_path, \"w+\") as out:\n",
    "        for row in df.itertuples():\n",
    "            date = row.date\n",
    "            loc = row.location\n",
    "            try: \n",
    "                killed = row.killed\n",
    "                injured = row.injured\n",
    "            except:\n",
    "                killed = \"UNKNOWN\"\n",
    "                injured = \"UNKNOWN\"\n",
    "                \n",
    "            doc_text = row.doc_text\n",
    "            pr_text = row.pr_text\n",
    "            \n",
    "            header_str = f\"{date} - {loc}\\nKilled: {killed}\\nInjured: {injured}\\n\"\n",
    "            out.write(header_str)\n",
    "            out.write(\"DOCUMENT TEXT BELOW----\\n\")\n",
    "            out.write(doc_text)\n",
    "            out.write(\"PR TEXT BELOW----\\n\")\n",
    "            out.write(pr_text)\n",
    "            out.write(\"----------------------------------------------\")"
   ]
  },
  {
   "cell_type": "code",
   "execution_count": 2,
   "id": "1ca8edc4-6bec-41c2-bb4f-804b6255cf5e",
   "metadata": {},
   "outputs": [
    {
     "ename": "NameError",
     "evalue": "name 'ROW_TITLES' is not defined",
     "output_type": "error",
     "traceback": [
      "\u001b[0;31m---------------------------------------------------------------------------\u001b[0m",
      "\u001b[0;31mNameError\u001b[0m                                 Traceback (most recent call last)",
      "Input \u001b[0;32mIn [2]\u001b[0m, in \u001b[0;36m<cell line: 1>\u001b[0;34m()\u001b[0m\n\u001b[0;32m----> 1\u001b[0m \u001b[38;5;28;01mdef\u001b[39;00m \u001b[38;5;21mfull_parse\u001b[39m(kind, row_titles\u001b[38;5;241m=\u001b[39m\u001b[43mROW_TITLES\u001b[49m):\n\u001b[1;32m      2\u001b[0m     df \u001b[38;5;241m=\u001b[39m parse_table(reports[kind], row_titles)\n\u001b[1;32m      3\u001b[0m     df \u001b[38;5;241m=\u001b[39m download_and_parse(df)\n",
      "\u001b[0;31mNameError\u001b[0m: name 'ROW_TITLES' is not defined"
     ]
    }
   ],
   "source": [
    "def full_parse(kind, row_titles=ROW_TITLES):\n",
    "    df = parse_table(reports[kind], row_titles)\n",
    "    df = download_and_parse(df)\n",
    "    df = extract_pdf_from_pandas(df)\n",
    "    write_output(f\"./output/{kind}.txt\", df)"
   ]
  },
  {
   "cell_type": "code",
   "execution_count": 1,
   "id": "e205d42f-ec38-43ab-a71f-3aeadd9fc279",
   "metadata": {},
   "outputs": [
    {
     "ename": "NameError",
     "evalue": "name 'full_parse' is not defined",
     "output_type": "error",
     "traceback": [
      "\u001b[0;31m---------------------------------------------------------------------------\u001b[0m",
      "\u001b[0;31mNameError\u001b[0m                                 Traceback (most recent call last)",
      "Input \u001b[0;32mIn [1]\u001b[0m, in \u001b[0;36m<cell line: 1>\u001b[0;34m()\u001b[0m\n\u001b[0;32m----> 1\u001b[0m \u001b[43mfull_parse\u001b[49m(\u001b[38;5;124m\"\u001b[39m\u001b[38;5;124mnoncredible-reports\u001b[39m\u001b[38;5;124m\"\u001b[39m, [\n\u001b[1;32m      2\u001b[0m     \u001b[38;5;124m'\u001b[39m\u001b[38;5;124mdate\u001b[39m\u001b[38;5;124m'\u001b[39m,\n\u001b[1;32m      3\u001b[0m     \u001b[38;5;124m'\u001b[39m\u001b[38;5;124mlocation\u001b[39m\u001b[38;5;124m'\u001b[39m,\n\u001b[1;32m      4\u001b[0m ])\n",
      "\u001b[0;31mNameError\u001b[0m: name 'full_parse' is not defined"
     ]
    }
   ],
   "source": [
    "full_parse(\"noncredible-reports\", [\n",
    "    'date',\n",
    "    'location',\n",
    "])"
   ]
  },
  {
   "cell_type": "code",
   "execution_count": null,
   "id": "b37f49a5-b750-4d1b-b6d8-f0fd56e602f4",
   "metadata": {},
   "outputs": [],
   "source": []
  }
 ],
 "metadata": {
  "kernelspec": {
   "display_name": "Python 3 (ipykernel)",
   "language": "python",
   "name": "python3"
  },
  "language_info": {
   "codemirror_mode": {
    "name": "ipython",
    "version": 3
   },
   "file_extension": ".py",
   "mimetype": "text/x-python",
   "name": "python",
   "nbconvert_exporter": "python",
   "pygments_lexer": "ipython3",
   "version": "3.9.7"
  }
 },
 "nbformat": 4,
 "nbformat_minor": 5
}
