{
 "cells": [
  {
   "cell_type": "code",
   "execution_count": 112,
   "id": "4162ec52-f299-4208-a624-656934d013bf",
   "metadata": {},
   "outputs": [],
   "source": [
    "from bs4 import BeautifulSoup\n",
    "import requests\n",
    "import re\n",
    "import textract\n",
    "import pandas as pd\n",
    "import os"
   ]
  },
  {
   "cell_type": "code",
   "execution_count": 2,
   "id": "4fb22d10-a537-4a26-9564-8862c543d06c",
   "metadata": {},
   "outputs": [],
   "source": [
    "link = \"https://www.nytimes.com/interactive/2021/us/civilian-casualty-files.html\""
   ]
  },
  {
   "cell_type": "code",
   "execution_count": 6,
   "id": "cf8d1955-3e7e-4622-b6dc-faf6e0ba4dc1",
   "metadata": {},
   "outputs": [],
   "source": [
    "b = requests.get(link)"
   ]
  },
  {
   "cell_type": "code",
   "execution_count": 9,
   "id": "c7b4510d-58e0-4c8f-9057-d8987d7bda15",
   "metadata": {},
   "outputs": [],
   "source": [
    "doc = BeautifulSoup(b.text)"
   ]
  },
  {
   "cell_type": "code",
   "execution_count": 120,
   "id": "8931257a-2c8a-4171-8d39-c7e1cd50fd55",
   "metadata": {},
   "outputs": [],
   "source": [
    "def extract_pdf(pdf_path: str) -> str:\n",
    "    if len(pdf_path) == 0:\n",
    "        return \"\"\n",
    "    return textract.process(pdf_path, encoding=\"utf-8\").decode(\"utf-8\")"
   ]
  },
  {
   "cell_type": "code",
   "execution_count": 23,
   "id": "c78fca15-42ce-41c3-9bc5-20628048bbb4",
   "metadata": {},
   "outputs": [],
   "source": [
    "files = doc.find('div', attrs={'data-preview-slug': '2021-11-12-airstrikes-docs'})"
   ]
  },
  {
   "cell_type": "code",
   "execution_count": 29,
   "id": "36460823-b678-435d-b8a9-7d832010d2d8",
   "metadata": {},
   "outputs": [],
   "source": [
    "KINDS = ['credible-reports', 'noncredible-reports', 'process-docs']\n",
    "reports = {}\n",
    "for kind in KINDS:\n",
    "    reports[kind] = files.find('div', attrs={'id': kind}).find('div', id=lambda x: x.endswith(\"-table\"))"
   ]
  },
  {
   "cell_type": "code",
   "execution_count": 82,
   "id": "33ad807b-3345-4402-a8b0-a9ec4ea1c7f9",
   "metadata": {},
   "outputs": [],
   "source": [
    "ROW_TITLES = [\n",
    "    'date',\n",
    "    'location',\n",
    "    'killed',\n",
    "    'injured',\n",
    "]\n",
    "\n",
    "def parse_table(reports_table):\n",
    "    rows = reports_table.findAll('div', recursive=False)\n",
    "    data = []\n",
    "    for r in rows[1:]:\n",
    "        if not r:\n",
    "            continue\n",
    "        d = {}\n",
    "        \n",
    "        for title in ROW_TITLES:\n",
    "            d[title] = r.find('div', class_=lambda x: x.endswith(title)).text.strip() \n",
    "        try:\n",
    "            d['docs'] = r.find('div', class_=lambda x: x.endswith('docs'))\n",
    "            if len(d['docs'].text.strip()) > 0:\n",
    "                d['docs'] = d['docs'].find('a').attrs['href']\n",
    "            else:\n",
    "                d['docs'] = ''\n",
    "            d['pr'] = r.find('div', class_=lambda x: x.endswith('pr'))\n",
    "            if len(d['pr'].text.strip()) > 0:\n",
    "                d['pr'] = d['pr'].find('a').attrs['href']\n",
    "            else:\n",
    "                d['pr'] = ''\n",
    "        except:\n",
    "            print(f\"didn't find {r}\")\n",
    "        data.append(d)\n",
    "        \n",
    "    return pd.DataFrame(data)"
   ]
  },
  {
   "cell_type": "code",
   "execution_count": 105,
   "id": "2afca484-f62b-43d9-8062-587de375bc49",
   "metadata": {},
   "outputs": [
    {
     "data": {
      "text/html": [
       "<div>\n",
       "<style scoped>\n",
       "    .dataframe tbody tr th:only-of-type {\n",
       "        vertical-align: middle;\n",
       "    }\n",
       "\n",
       "    .dataframe tbody tr th {\n",
       "        vertical-align: top;\n",
       "    }\n",
       "\n",
       "    .dataframe thead th {\n",
       "        text-align: right;\n",
       "    }\n",
       "</style>\n",
       "<table border=\"1\" class=\"dataframe\">\n",
       "  <thead>\n",
       "    <tr style=\"text-align: right;\">\n",
       "      <th></th>\n",
       "      <th>date</th>\n",
       "      <th>location</th>\n",
       "      <th>killed</th>\n",
       "      <th>injured</th>\n",
       "      <th>docs</th>\n",
       "      <th>pr</th>\n",
       "    </tr>\n",
       "  </thead>\n",
       "  <tbody>\n",
       "    <tr>\n",
       "      <th>0</th>\n",
       "      <td>Nov. 5, 2014</td>\n",
       "      <td>Harim, Syria</td>\n",
       "      <td>2</td>\n",
       "      <td>2</td>\n",
       "      <td>https://int.nyt.com/data/documenttools/c-11-5-...</td>\n",
       "      <td>https://int.nyt.com/data/documenttools/press-r...</td>\n",
       "    </tr>\n",
       "    <tr>\n",
       "      <th>1</th>\n",
       "      <td>March 13, 2015</td>\n",
       "      <td>Hatra, Iraq</td>\n",
       "      <td>11</td>\n",
       "      <td></td>\n",
       "      <td>https://int.nyt.com/data/documenttools/c-3-13-...</td>\n",
       "      <td>https://int.nyt.com/data/documenttools/press-r...</td>\n",
       "    </tr>\n",
       "    <tr>\n",
       "      <th>2</th>\n",
       "      <td>April 12, 2015</td>\n",
       "      <td>Hawija, Iraq</td>\n",
       "      <td>2</td>\n",
       "      <td></td>\n",
       "      <td>https://int.nyt.com/data/documenttools/c-4-12-...</td>\n",
       "      <td>https://int.nyt.com/data/documenttools/press-r...</td>\n",
       "    </tr>\n",
       "    <tr>\n",
       "      <th>3</th>\n",
       "      <td>May 13, 2015</td>\n",
       "      <td>Baiji, Iraq</td>\n",
       "      <td>6</td>\n",
       "      <td></td>\n",
       "      <td>https://int.nyt.com/data/documenttools/c-5-13-...</td>\n",
       "      <td>https://int.nyt.com/data/documenttools/press-r...</td>\n",
       "    </tr>\n",
       "    <tr>\n",
       "      <th>4</th>\n",
       "      <td>June 2, 2015</td>\n",
       "      <td>Hawija, Iraq</td>\n",
       "      <td>70</td>\n",
       "      <td></td>\n",
       "      <td>https://int.nyt.com/data/documenttools/c-6-2-1...</td>\n",
       "      <td>https://int.nyt.com/data/documenttools/press-r...</td>\n",
       "    </tr>\n",
       "  </tbody>\n",
       "</table>\n",
       "</div>"
      ],
      "text/plain": [
       "             date      location killed injured  \\\n",
       "0    Nov. 5, 2014  Harim, Syria      2       2   \n",
       "1  March 13, 2015   Hatra, Iraq     11           \n",
       "2  April 12, 2015  Hawija, Iraq      2           \n",
       "3    May 13, 2015   Baiji, Iraq      6           \n",
       "4    June 2, 2015  Hawija, Iraq     70           \n",
       "\n",
       "                                                docs  \\\n",
       "0  https://int.nyt.com/data/documenttools/c-11-5-...   \n",
       "1  https://int.nyt.com/data/documenttools/c-3-13-...   \n",
       "2  https://int.nyt.com/data/documenttools/c-4-12-...   \n",
       "3  https://int.nyt.com/data/documenttools/c-5-13-...   \n",
       "4  https://int.nyt.com/data/documenttools/c-6-2-1...   \n",
       "\n",
       "                                                  pr  \n",
       "0  https://int.nyt.com/data/documenttools/press-r...  \n",
       "1  https://int.nyt.com/data/documenttools/press-r...  \n",
       "2  https://int.nyt.com/data/documenttools/press-r...  \n",
       "3  https://int.nyt.com/data/documenttools/press-r...  \n",
       "4  https://int.nyt.com/data/documenttools/press-r...  "
      ]
     },
     "execution_count": 105,
     "metadata": {},
     "output_type": "execute_result"
    }
   ],
   "source": [
    "parse_table(reports['credible-reports']).head()"
   ]
  },
  {
   "cell_type": "code",
   "execution_count": 113,
   "id": "b7fa7346-3661-4071-8f2f-151a0ae4ed46",
   "metadata": {},
   "outputs": [],
   "source": [
    "def download_pdf(link):\n",
    "    if len(link) == 0: \n",
    "        return ''\n",
    "    out = '-'.join(link.split('/')[5:])\n",
    "    out = f\"./downloads/{out}\"\n",
    "    if os.path.exists(out):\n",
    "        return out\n",
    "    with open(out, \"wb+\") as outfile:\n",
    "        r = requests.get(link)\n",
    "        outfile.write(r.content)\n",
    "    return out\n",
    "        \n",
    "def download_and_parse(df):\n",
    "    df['doc_file'] = df['docs'].apply(download_pdf)\n",
    "    df['pr_file'] = df['pr'].apply(download_pdf)\n",
    "\n",
    "    return df"
   ]
  },
  {
   "cell_type": "code",
   "execution_count": 95,
   "id": "2a9336e2-32ae-4379-8abf-3fa60a71c162",
   "metadata": {},
   "outputs": [
    {
     "data": {
      "text/plain": [
       "'c-11-5-14-syria/33f211120650b542/full.pdf'"
      ]
     },
     "execution_count": 95,
     "metadata": {},
     "output_type": "execute_result"
    }
   ],
   "source": [
    "#'/'.join('https://int.nyt.com/data/documenttools/c-11-5-14-syria/33f211120650b542/full.pdf'.split(\"/\")[5:])"
   ]
  },
  {
   "cell_type": "code",
   "execution_count": 104,
   "id": "a2afe9d9-9e89-4bb8-b500-d42160090909",
   "metadata": {},
   "outputs": [],
   "source": [
    "#download_pdf('https://int.nyt.com/data/documenttools/c-11-5-14-syria/33f211120650b542/full.pdf')"
   ]
  },
  {
   "cell_type": "code",
   "execution_count": 114,
   "id": "6e31c339-87f2-419f-b4db-f9dbba0a183d",
   "metadata": {},
   "outputs": [],
   "source": [
    "credible_reports = parse_table(reports['credible-reports'])"
   ]
  },
  {
   "cell_type": "code",
   "execution_count": 115,
   "id": "c6ad0093-a57d-4eac-906e-7b11cfb1a7f5",
   "metadata": {},
   "outputs": [],
   "source": [
    "credible_reports = download_and_parse(credible_reports)"
   ]
  },
  {
   "cell_type": "code",
   "execution_count": 117,
   "id": "26e08052-2318-4221-b31d-11aa8bf4d8b4",
   "metadata": {},
   "outputs": [
    {
     "data": {
      "text/html": [
       "<div>\n",
       "<style scoped>\n",
       "    .dataframe tbody tr th:only-of-type {\n",
       "        vertical-align: middle;\n",
       "    }\n",
       "\n",
       "    .dataframe tbody tr th {\n",
       "        vertical-align: top;\n",
       "    }\n",
       "\n",
       "    .dataframe thead th {\n",
       "        text-align: right;\n",
       "    }\n",
       "</style>\n",
       "<table border=\"1\" class=\"dataframe\">\n",
       "  <thead>\n",
       "    <tr style=\"text-align: right;\">\n",
       "      <th></th>\n",
       "      <th>date</th>\n",
       "      <th>location</th>\n",
       "      <th>killed</th>\n",
       "      <th>injured</th>\n",
       "      <th>docs</th>\n",
       "      <th>pr</th>\n",
       "      <th>doc_file</th>\n",
       "      <th>pr_file</th>\n",
       "    </tr>\n",
       "  </thead>\n",
       "  <tbody>\n",
       "    <tr>\n",
       "      <th>0</th>\n",
       "      <td>Nov. 5, 2014</td>\n",
       "      <td>Harim, Syria</td>\n",
       "      <td>2</td>\n",
       "      <td>2</td>\n",
       "      <td>https://int.nyt.com/data/documenttools/c-11-5-...</td>\n",
       "      <td>https://int.nyt.com/data/documenttools/press-r...</td>\n",
       "      <td>./downloads/c-11-5-14-syria-33f211120650b542-f...</td>\n",
       "      <td>./downloads/press-release-5-21-2015-9cda9f1a51...</td>\n",
       "    </tr>\n",
       "    <tr>\n",
       "      <th>1</th>\n",
       "      <td>March 13, 2015</td>\n",
       "      <td>Hatra, Iraq</td>\n",
       "      <td>11</td>\n",
       "      <td></td>\n",
       "      <td>https://int.nyt.com/data/documenttools/c-3-13-...</td>\n",
       "      <td>https://int.nyt.com/data/documenttools/press-r...</td>\n",
       "      <td>./downloads/c-3-13-15-iraq-98765d6845453fbb-fu...</td>\n",
       "      <td>./downloads/press-release-4-30-2017-ccdbcdad55...</td>\n",
       "    </tr>\n",
       "    <tr>\n",
       "      <th>2</th>\n",
       "      <td>April 12, 2015</td>\n",
       "      <td>Hawija, Iraq</td>\n",
       "      <td>2</td>\n",
       "      <td></td>\n",
       "      <td>https://int.nyt.com/data/documenttools/c-4-12-...</td>\n",
       "      <td>https://int.nyt.com/data/documenttools/press-r...</td>\n",
       "      <td>./downloads/c-4-12-15-iraq-74481cf840344fc8-fu...</td>\n",
       "      <td>./downloads/press-release-1-15-2016-b1abcd39f5...</td>\n",
       "    </tr>\n",
       "    <tr>\n",
       "      <th>3</th>\n",
       "      <td>May 13, 2015</td>\n",
       "      <td>Baiji, Iraq</td>\n",
       "      <td>6</td>\n",
       "      <td></td>\n",
       "      <td>https://int.nyt.com/data/documenttools/c-5-13-...</td>\n",
       "      <td>https://int.nyt.com/data/documenttools/press-r...</td>\n",
       "      <td>./downloads/c-5-13-15-iraq-437a8a6b6adb3ee6-fu...</td>\n",
       "      <td>./downloads/press-release-7-7-2017-e4cb887cba3...</td>\n",
       "    </tr>\n",
       "    <tr>\n",
       "      <th>4</th>\n",
       "      <td>June 2, 2015</td>\n",
       "      <td>Hawija, Iraq</td>\n",
       "      <td>70</td>\n",
       "      <td></td>\n",
       "      <td>https://int.nyt.com/data/documenttools/c-6-2-1...</td>\n",
       "      <td>https://int.nyt.com/data/documenttools/press-r...</td>\n",
       "      <td>./downloads/c-6-2-15-iraq-055d09f8f8b256a4-ful...</td>\n",
       "      <td>./downloads/press-release-12-5-2019-50dc7f4f2c...</td>\n",
       "    </tr>\n",
       "  </tbody>\n",
       "</table>\n",
       "</div>"
      ],
      "text/plain": [
       "             date      location killed injured  \\\n",
       "0    Nov. 5, 2014  Harim, Syria      2       2   \n",
       "1  March 13, 2015   Hatra, Iraq     11           \n",
       "2  April 12, 2015  Hawija, Iraq      2           \n",
       "3    May 13, 2015   Baiji, Iraq      6           \n",
       "4    June 2, 2015  Hawija, Iraq     70           \n",
       "\n",
       "                                                docs  \\\n",
       "0  https://int.nyt.com/data/documenttools/c-11-5-...   \n",
       "1  https://int.nyt.com/data/documenttools/c-3-13-...   \n",
       "2  https://int.nyt.com/data/documenttools/c-4-12-...   \n",
       "3  https://int.nyt.com/data/documenttools/c-5-13-...   \n",
       "4  https://int.nyt.com/data/documenttools/c-6-2-1...   \n",
       "\n",
       "                                                  pr  \\\n",
       "0  https://int.nyt.com/data/documenttools/press-r...   \n",
       "1  https://int.nyt.com/data/documenttools/press-r...   \n",
       "2  https://int.nyt.com/data/documenttools/press-r...   \n",
       "3  https://int.nyt.com/data/documenttools/press-r...   \n",
       "4  https://int.nyt.com/data/documenttools/press-r...   \n",
       "\n",
       "                                            doc_file  \\\n",
       "0  ./downloads/c-11-5-14-syria-33f211120650b542-f...   \n",
       "1  ./downloads/c-3-13-15-iraq-98765d6845453fbb-fu...   \n",
       "2  ./downloads/c-4-12-15-iraq-74481cf840344fc8-fu...   \n",
       "3  ./downloads/c-5-13-15-iraq-437a8a6b6adb3ee6-fu...   \n",
       "4  ./downloads/c-6-2-15-iraq-055d09f8f8b256a4-ful...   \n",
       "\n",
       "                                             pr_file  \n",
       "0  ./downloads/press-release-5-21-2015-9cda9f1a51...  \n",
       "1  ./downloads/press-release-4-30-2017-ccdbcdad55...  \n",
       "2  ./downloads/press-release-1-15-2016-b1abcd39f5...  \n",
       "3  ./downloads/press-release-7-7-2017-e4cb887cba3...  \n",
       "4  ./downloads/press-release-12-5-2019-50dc7f4f2c...  "
      ]
     },
     "execution_count": 117,
     "metadata": {},
     "output_type": "execute_result"
    }
   ],
   "source": [
    "credible_reports.head()"
   ]
  },
  {
   "cell_type": "code",
   "execution_count": 118,
   "id": "692b5099-624d-47ed-a74f-18563beead41",
   "metadata": {},
   "outputs": [],
   "source": [
    "def extract_pdf_from_pandas(df):\n",
    "    df['doc_text'] = df['doc_file'].apply(extract_pdf)\n",
    "    df['pr_text'] = df['pr_file'].apply(extract_pdf)\n",
    "    return df"
   ]
  },
  {
   "cell_type": "code",
   "execution_count": 121,
   "id": "63e5fca6-088c-43a9-9718-205ccaf7808c",
   "metadata": {},
   "outputs": [],
   "source": []
  },
  {
   "cell_type": "code",
   "execution_count": 122,
   "id": "1c94b731-bf9a-49eb-9912-449bde9fbaed",
   "metadata": {},
   "outputs": [],
   "source": [
    "def write_output(out_path, df):\n",
    "    with open(out_path, \"w+\") as out:\n",
    "        for row in df.itertuples():\n",
    "            date = row.date\n",
    "            loc = row.location\n",
    "            killed = row.killed\n",
    "            injured = row.injured\n",
    "            doc_text = row.doc_text\n",
    "            pr_text = row.pr_text\n",
    "            \n",
    "            header_str = f\"{date} - {location}\\nKilled: {killed}\\nInjured: {injured}\\n\"\n",
    "            out.write(header_str)\n",
    "            out.write(\"DOCUMENT TEXT BELOW\")\n",
    "            out.write(doc_text)\n",
    "            out.write(\"PR TEXT BELOW\")\n",
    "            out.write(pr_text)\n",
    "            out.write(\"----------------------------------------------\")"
   ]
  },
  {
   "cell_type": "code",
   "execution_count": 123,
   "id": "4b64d387-5b17-4f85-8216-bd559d23e420",
   "metadata": {},
   "outputs": [
    {
     "ename": "AttributeError",
     "evalue": "'NoneType' object has no attribute 'itertuples'",
     "output_type": "error",
     "traceback": [
      "\u001b[0;31m---------------------------------------------------------------------------\u001b[0m",
      "\u001b[0;31mAttributeError\u001b[0m                            Traceback (most recent call last)",
      "Input \u001b[0;32mIn [123]\u001b[0m, in \u001b[0;36m<cell line: 2>\u001b[0;34m()\u001b[0m\n\u001b[1;32m      1\u001b[0m credible_reports \u001b[38;5;241m=\u001b[39m extract_pdf_from_pandas(credible_reports)\n\u001b[0;32m----> 2\u001b[0m \u001b[43mwrite_output\u001b[49m\u001b[43m(\u001b[49m\u001b[38;5;124;43m\"\u001b[39;49m\u001b[38;5;124;43m./output/credible_reports.txt\u001b[39;49m\u001b[38;5;124;43m\"\u001b[39;49m\u001b[43m,\u001b[49m\u001b[43m \u001b[49m\u001b[43mcredible_reports\u001b[49m\u001b[43m)\u001b[49m\n",
      "Input \u001b[0;32mIn [122]\u001b[0m, in \u001b[0;36mwrite_output\u001b[0;34m(out_path, df)\u001b[0m\n\u001b[1;32m      1\u001b[0m \u001b[38;5;28;01mdef\u001b[39;00m \u001b[38;5;21mwrite_output\u001b[39m(out_path, df):\n\u001b[1;32m      2\u001b[0m     \u001b[38;5;28;01mwith\u001b[39;00m \u001b[38;5;28mopen\u001b[39m(out_path, \u001b[38;5;124m\"\u001b[39m\u001b[38;5;124mw+\u001b[39m\u001b[38;5;124m\"\u001b[39m) \u001b[38;5;28;01mas\u001b[39;00m out:\n\u001b[0;32m----> 3\u001b[0m         \u001b[38;5;28;01mfor\u001b[39;00m row \u001b[38;5;129;01min\u001b[39;00m \u001b[43mdf\u001b[49m\u001b[38;5;241;43m.\u001b[39;49m\u001b[43mitertuples\u001b[49m():\n\u001b[1;32m      4\u001b[0m             date \u001b[38;5;241m=\u001b[39m row\u001b[38;5;241m.\u001b[39mdate\n\u001b[1;32m      5\u001b[0m             loc \u001b[38;5;241m=\u001b[39m row\u001b[38;5;241m.\u001b[39mlocation\n",
      "\u001b[0;31mAttributeError\u001b[0m: 'NoneType' object has no attribute 'itertuples'"
     ]
    }
   ],
   "source": [
    "credible_reports = extract_pdf_from_pandas(credible_reports)\n",
    "write_output(\"./output/credible_reports.txt\", credible_reports)"
   ]
  },
  {
   "cell_type": "code",
   "execution_count": null,
   "id": "0eb97fc0-f88e-47fd-a070-a2ca7d59e51c",
   "metadata": {},
   "outputs": [],
   "source": []
  }
 ],
 "metadata": {
  "kernelspec": {
   "display_name": "Python 3 (ipykernel)",
   "language": "python",
   "name": "python3"
  },
  "language_info": {
   "codemirror_mode": {
    "name": "ipython",
    "version": 3
   },
   "file_extension": ".py",
   "mimetype": "text/x-python",
   "name": "python",
   "nbconvert_exporter": "python",
   "pygments_lexer": "ipython3",
   "version": "3.9.7"
  }
 },
 "nbformat": 4,
 "nbformat_minor": 5
}
